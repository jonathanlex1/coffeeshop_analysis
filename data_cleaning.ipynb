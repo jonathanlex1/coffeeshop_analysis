{
 "cells": [
  {
   "cell_type": "markdown",
   "id": "b1937314",
   "metadata": {},
   "source": [
    "## Getting Data Using Kaggle API "
   ]
  },
  {
   "cell_type": "code",
   "execution_count": 98,
   "id": "6d86fe9d",
   "metadata": {
    "scrolled": true
   },
   "outputs": [
    {
     "name": "stdout",
     "output_type": "stream",
     "text": [
      "ref                                                           title                                              size  lastUpdated          downloadCount  voteCount  usabilityRating  \n",
      "------------------------------------------------------------  ------------------------------------------------  -----  -------------------  -------------  ---------  ---------------  \n",
      "michals22/coffee-dataset                                      Coffee dataset                                     24KB  2022-12-15 20:02:12          14454        215  1.0              \n",
      "ihelon/coffee-sales                                           Coffee Sales                                       13KB  2024-08-01 07:55:34           9065        146  1.0              \n",
      "ahmedabbas757/coffee-sales                                    Coffee Shop Sales                                   8MB  2023-12-01 19:04:06           7011         82  0.88235295       \n",
      "schmoyote/coffee-reviews-dataset                              Coffee Reviews Dataset                            569KB  2023-01-19 02:25:42           4478         51  1.0              \n",
      "fatihb/coffee-quality-data-cqi                                Coffee Quality Data (CQI May-2023)                 22KB  2023-05-12 13:06:39          15727        254  1.0              \n",
      "divu2001/coffee-shop-sales-analysis                           Coffee Shop Sales Analysis                          2MB  2024-03-30 10:57:57           4003         53  1.0              \n",
      "volpatto/coffee-quality-database-from-cqi                     Coffee Quality database from CQI                  254KB  2019-12-07 14:33:48          11245        145  0.8235294        \n",
      "amruthayenikonda/coffee-chain-sales-dataset                   Coffee Chain Sales Analysis                        24KB  2023-10-02 11:37:27           4830         68  0.8235294        \n",
      "shrutikunapuli/coffee-and-code-dataset                        Coffee and code dataset                             1KB  2021-10-06 22:05:56           2276         55  0.88235295       \n",
      "yamaerenay/ico-coffee-dataset-worldwide                       ICO Coffee Dataset (Worldwide)                     74KB  2021-02-07 21:22:27           3220         38  0.9411765        \n",
      "joebeachcapital/coffee-taste-test                             Coffee Taste Test                                 393KB  2024-06-12 00:15:41            953         26  1.0              \n",
      "ylchang/coffee-shop-sample-data-1113                          Coffee shop sample data (11.1.3+)                 589KB  2019-11-08 03:44:36          16102        150  0.7058824        \n",
      "parasrupani/coffee-distribution-across-94-counties            Coffee Distribution Across 94 Counties            220KB  2024-02-28 01:49:07           3043         41  1.0              \n",
      "niramay/-coffeemakerclassification                            ☕️ coffee-maker-classification                    626KB  2022-11-10 19:03:08           1121         32  0.9411765        \n",
      "gpiosenka/coffee-bean-dataset-resized-224-x-224               Coffee Bean Dataset Resized (224 X 224)           144MB  2022-08-11 17:50:37           5070         56  0.88235295       \n",
      "timmofeyy/coffee-prices-historical-data                       ☕ Coffee Prices Historical Data                    59KB  2023-08-04 14:51:11           1031         30  1.0              \n",
      "waqi786/worldwide-coffee-habits-dataset                       Worldwide Coffee Habits Dataset ☕                 320KB  2024-07-27 07:38:26            881         22  1.0              \n",
      "hanifalirsyad/coffee-scrap-coffeereview                       Coffee_Data_CoffeeReview                            2MB  2023-10-12 07:06:43           1962         43  1.0              \n",
      "sujaykapadnis/lets-do-some-coffee-tasting                     Coffee Tastings [Survey Analysis]                 434KB  2023-11-20 12:06:28           4262         29  1.0              \n",
      "ankurchavda/coffee-beans-reviews-by-coffee-quality-institute  Coffee Beans Reviews by Coffee Quality Institute  117KB  2019-01-30 17:04:01           2718         59  0.5882353        \n"
     ]
    }
   ],
   "source": [
    "!kaggle datasets list -s 'coffee'"
   ]
  },
  {
   "cell_type": "code",
   "execution_count": 99,
   "id": "5950df1f",
   "metadata": {
    "scrolled": true
   },
   "outputs": [
    {
     "name": "stdout",
     "output_type": "stream",
     "text": [
      "Dataset URL: https://www.kaggle.com/datasets/ahmedabbas757/coffee-sales\n",
      "License(s): GNU Lesser General Public License 3.0\n",
      "Downloading coffee-sales.zip to c:\\Users\\Asus\\Notebooks\\Project 1\n",
      "\n"
     ]
    },
    {
     "name": "stderr",
     "output_type": "stream",
     "text": [
      "\n",
      "  0%|          | 0.00/8.23M [00:00<?, ?B/s]\n",
      " 12%|█▏        | 1.00M/8.23M [00:01<00:10, 714kB/s]\n",
      " 24%|██▍       | 2.00M/8.23M [00:02<00:06, 1.01MB/s]\n",
      " 36%|███▋      | 3.00M/8.23M [00:02<00:04, 1.15MB/s]\n",
      " 49%|████▊     | 4.00M/8.23M [00:03<00:03, 1.22MB/s]\n",
      " 61%|██████    | 5.00M/8.23M [00:04<00:02, 1.17MB/s]\n",
      " 73%|███████▎  | 6.00M/8.23M [00:05<00:01, 1.23MB/s]\n",
      " 85%|████████▌ | 7.00M/8.23M [00:06<00:01, 1.27MB/s]\n",
      " 97%|█████████▋| 8.00M/8.23M [00:07<00:00, 1.28MB/s]\n",
      "100%|██████████| 8.23M/8.23M [00:07<00:00, 1.30MB/s]\n",
      "100%|██████████| 8.23M/8.23M [00:07<00:00, 1.20MB/s]\n"
     ]
    }
   ],
   "source": [
    "!kaggle datasets download -d ahmedabbas757/coffee-sales"
   ]
  },
  {
   "cell_type": "markdown",
   "id": "71f0d8a7",
   "metadata": {},
   "source": [
    "## Import Data"
   ]
  },
  {
   "cell_type": "code",
   "execution_count": 15,
   "id": "665789d9",
   "metadata": {},
   "outputs": [],
   "source": [
    "import pandas as pd "
   ]
  },
  {
   "cell_type": "code",
   "execution_count": 16,
   "id": "aa77e130",
   "metadata": {
    "scrolled": true
   },
   "outputs": [],
   "source": [
    "df = pd.read_excel('./coffee-sales/Coffee Shop Sales.xlsx')"
   ]
  },
  {
   "cell_type": "code",
   "execution_count": 17,
   "id": "a2ca97ed",
   "metadata": {},
   "outputs": [
    {
     "name": "stdout",
     "output_type": "stream",
     "text": [
      "<class 'pandas.core.frame.DataFrame'>\n",
      "RangeIndex: 149116 entries, 0 to 149115\n",
      "Data columns (total 11 columns):\n",
      " #   Column            Non-Null Count   Dtype         \n",
      "---  ------            --------------   -----         \n",
      " 0   transaction_id    149116 non-null  int64         \n",
      " 1   transaction_date  149116 non-null  datetime64[ns]\n",
      " 2   transaction_time  149116 non-null  object        \n",
      " 3   transaction_qty   149116 non-null  int64         \n",
      " 4   store_id          149116 non-null  int64         \n",
      " 5   store_location    149116 non-null  object        \n",
      " 6   product_id        149116 non-null  int64         \n",
      " 7   unit_price        149116 non-null  float64       \n",
      " 8   product_category  149116 non-null  object        \n",
      " 9   product_type      149116 non-null  object        \n",
      " 10  product_detail    149116 non-null  object        \n",
      "dtypes: datetime64[ns](1), float64(1), int64(4), object(5)\n",
      "memory usage: 12.5+ MB\n"
     ]
    }
   ],
   "source": [
    "df.info()"
   ]
  },
  {
   "cell_type": "markdown",
   "id": "bb10d18e",
   "metadata": {},
   "source": [
    "## Data Cleaning"
   ]
  },
  {
   "cell_type": "code",
   "execution_count": 18,
   "id": "55b07ed9",
   "metadata": {},
   "outputs": [],
   "source": [
    "# total sales\n",
    "df['total_payment'] = df['transaction_qty'] * df['unit_price']"
   ]
  },
  {
   "cell_type": "code",
   "execution_count": 19,
   "id": "a81d2b55",
   "metadata": {
    "scrolled": true
   },
   "outputs": [],
   "source": [
    "# concat transaction date and transaction time \n",
    "df['transaction_datetime'] = pd.to_datetime(df['transaction_date']) + pd.to_timedelta(df['transaction_time'].astype(str))\n",
    "\n",
    "df = df.drop(columns=['transaction_date', 'transaction_time'], axis=1)"
   ]
  },
  {
   "cell_type": "code",
   "execution_count": 20,
   "id": "fcb16859",
   "metadata": {},
   "outputs": [
    {
     "data": {
      "text/plain": [
       "transaction_id          0\n",
       "transaction_qty         0\n",
       "store_id                0\n",
       "store_location          0\n",
       "product_id              0\n",
       "unit_price              0\n",
       "product_category        0\n",
       "product_type            0\n",
       "product_detail          0\n",
       "total_payment           0\n",
       "transaction_datetime    0\n",
       "dtype: int64"
      ]
     },
     "execution_count": 20,
     "metadata": {},
     "output_type": "execute_result"
    }
   ],
   "source": [
    "# check nan data\n",
    "df.isnull().sum()"
   ]
  },
  {
   "cell_type": "code",
   "execution_count": 21,
   "id": "e3f12546",
   "metadata": {},
   "outputs": [],
   "source": [
    "df['product_detail'] = df['product_detail'].str.replace('Rg', \"Regular\")\n",
    "df['product_detail'] = df['product_detail'].str.replace('Lg', \"Large\")\n",
    "df['product_detail'] = df['product_detail'].str.replace('Sm', \"Small\")\n",
    "df['product_detail'] = df['product_detail'].str.replace('syrup', \"Syrup\")\n",
    "df['product_detail'] = df['product_detail'].str.replace('shot', \"Shot\")\n",
    "df['product_detail'] = df['product_detail'].str.replace('chocolate', \"Chocolate\")\n",
    "df['product_detail'] = df['product_detail'].str.replace('mug', \"Mug\")"
   ]
  },
  {
   "cell_type": "code",
   "execution_count": 22,
   "id": "959a9638",
   "metadata": {},
   "outputs": [],
   "source": [
    "df = df.replace({'Gourmet brewed coffee' : 'Gourmet Brewed Coffee',\n",
    "            'Brewed Chai tea' : 'Brewed Chai Tea',\n",
    "            'Hot chocolate' : 'Hot Chocolate',\n",
    "            'Drip coffee' : 'Drip Coffee', \n",
    "            'Brewed Black tea' : 'Brewed Black Tea',\n",
    "            'Brewed Green tea' : 'Brewed Green Tea', \n",
    "            'Brewed herbal tea' : 'Brewed Herbal Tea', \n",
    "            'Organic brewed coffee' : 'Organic Brewed Coffee', \n",
    "            'Premium brewed coffee' : 'Premium Brewed Coffee', \n",
    "            'Regular syrup' : 'Regular Syrup',\n",
    "            'Herbal tea' : 'Herbal Tea', \n",
    "            'Sugar free syrup' : 'Sugar Free Syrup',\n",
    "            'Green beans' : 'Green Beans',\n",
    "            'Green tea' : 'Green Tea', \n",
    "            'Black tea' : 'Black Tea', \n",
    "            'House blend Beans' : 'House Blend Beans',\n",
    "            'Coffee beans' : 'Coffee Beans'})"
   ]
  },
  {
   "cell_type": "code",
   "execution_count": 23,
   "id": "7c2ed528",
   "metadata": {},
   "outputs": [
    {
     "data": {
      "text/plain": [
       "0"
      ]
     },
     "execution_count": 23,
     "metadata": {},
     "output_type": "execute_result"
    }
   ],
   "source": [
    "#checking duplicate data\n",
    "df['transaction_id'].duplicated().sum()"
   ]
  },
  {
   "cell_type": "code",
   "execution_count": 30,
   "id": "4f4e75e0",
   "metadata": {},
   "outputs": [],
   "source": [
    "#changing range transaction id \n",
    "df['transaction_id'] = range(1, len(df)+1)"
   ]
  },
  {
   "cell_type": "code",
   "execution_count": 31,
   "id": "440cbef6",
   "metadata": {},
   "outputs": [],
   "source": [
    "df_cleaned = df.to_csv('./df_cleaned.csv', index=False)"
   ]
  },
  {
   "cell_type": "code",
   "execution_count": 32,
   "id": "9f8e793a",
   "metadata": {},
   "outputs": [],
   "source": [
    "df = df.copy()"
   ]
  },
  {
   "cell_type": "code",
   "execution_count": 33,
   "id": "f0c56492",
   "metadata": {},
   "outputs": [],
   "source": [
    "#separate data based on store location\n",
    "lm_df = df[df['store_location'] == 'Lower Manhattan']\n",
    "hk_df = df[df['store_location'] == \"Hell's Kitchen\"]\n",
    "as_df = df[df['store_location'] == 'Astoria']"
   ]
  },
  {
   "cell_type": "code",
   "execution_count": 34,
   "id": "96a0a907",
   "metadata": {},
   "outputs": [],
   "source": [
    "lm_df = lm_df.drop(columns=['store_id', 'store_location']).reset_index(drop=True)\n",
    "hk_df = hk_df.drop(columns=['store_id', 'store_location']).reset_index(drop=True)\n",
    "as_df = as_df.drop(columns=['store_id', 'store_location']).reset_index(drop=True)"
   ]
  },
  {
   "cell_type": "code",
   "execution_count": 35,
   "id": "44860550",
   "metadata": {},
   "outputs": [],
   "source": [
    "lm_df['transaction_datetime'] = lm_df['transaction_datetime'].sort_values()\n",
    "hk_df['transaction_datetime'] = hk_df['transaction_datetime'].sort_values()\n",
    "as_df['transaction_datetime'] = as_df['transaction_datetime'].sort_values()"
   ]
  },
  {
   "cell_type": "code",
   "execution_count": 37,
   "id": "c625aa31",
   "metadata": {},
   "outputs": [],
   "source": [
    "lm_df.to_csv('./lower_manhattan.csv', index=False)\n",
    "hk_df.to_csv('./hell_kitchen.csv',index=False)\n",
    "as_df.to_csv('./astoria.csv', index=False)"
   ]
  }
 ],
 "metadata": {
  "kernelspec": {
   "display_name": "Python 3 (ipykernel)",
   "language": "python",
   "name": "python3"
  },
  "language_info": {
   "codemirror_mode": {
    "name": "ipython",
    "version": 3
   },
   "file_extension": ".py",
   "mimetype": "text/x-python",
   "name": "python",
   "nbconvert_exporter": "python",
   "pygments_lexer": "ipython3",
   "version": "3.11.4"
  }
 },
 "nbformat": 4,
 "nbformat_minor": 5
}
